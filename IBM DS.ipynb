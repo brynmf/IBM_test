{
 "cells": [
  {
   "cell_type": "markdown",
   "id": "121fe4be-f0c6-4011-b39d-fe9db2516b2f",
   "metadata": {},
   "source": [
    "# My Jupyter Notebook on IBM Watson Studio"
   ]
  },
  {
   "cell_type": "markdown",
   "id": "c9512c31-97ca-4d6d-b65c-4802d155c33b",
   "metadata": {},
   "source": [
    "#### Bryn Farnsworth von Cederwald\n",
    "#### Scientific and Technical Writer"
   ]
  },
  {
   "cell_type": "markdown",
   "id": "c91784de-8119-49e3-b45e-997e59be98f1",
   "metadata": {},
   "source": [
    "<em>I am interested in data science because I enjoy working with data - I think it's interesting to see what data can tell us about the world. I'm also considering a switch to data science, and this is an easy way to explore that further.</em>"
   ]
  },
  {
   "cell_type": "markdown",
   "id": "b7fc64e0-040d-4122-a089-90b5ce42f354",
   "metadata": {},
   "source": [
    "#### The code below assigns the string \"one\" with the number 1.5. Once \"one\" is added to \"one\" it shows the result of 3. "
   ]
  },
  {
   "cell_type": "code",
   "execution_count": 4,
   "id": "805d1bcd-ccb9-4f8e-9c35-e3205cf99524",
   "metadata": {
    "tags": []
   },
   "outputs": [
    {
     "data": {
      "text/plain": [
       "3.0"
      ]
     },
     "execution_count": 4,
     "metadata": {},
     "output_type": "execute_result"
    }
   ],
   "source": [
    "one = 1.5\n",
    "one + one"
   ]
  },
  {
   "cell_type": "markdown",
   "id": "1dfc7137-e5de-487d-87bf-680955505288",
   "metadata": {
    "tags": []
   },
   "source": [
    "<ol>\n",
    "    <li>Here's a list</li>\n",
    "    <li><a href=\"https://www.coursera.org/learn/open-source-tools-for-data-science/ungradedWidget/c1F5I/instructions-create-and-share-your-jupyter-notebook\">Here's a link to the course that we're taking.</li>\n",
    "</ol>\n",
    "<code>Here's some code syntax: one = 1.5\n",
    "one + one</code>\n",
    "And for good luck, here's an image of a dog:\n",
    "<img src=\"https://images.unsplash.com/photo-1543466835-00a7907e9de1?ixlib=rb-4.0.3&ixid=MnwxMjA3fDB8MHxwaG90by1wYWdlfHx8fGVufDB8fHx8&auto=format&fit=crop&w=2274&q=80\" width=\"300\">"
   ]
  },
  {
   "cell_type": "code",
   "execution_count": null,
   "id": "a4745c76-d585-43ab-af1e-228364f56300",
   "metadata": {},
   "outputs": [],
   "source": []
  }
 ],
 "metadata": {
  "kernelspec": {
   "display_name": "Python 3 (ipykernel)",
   "language": "python",
   "name": "python3"
  },
  "language_info": {
   "codemirror_mode": {
    "name": "ipython",
    "version": 3
   },
   "file_extension": ".py",
   "mimetype": "text/x-python",
   "name": "python",
   "nbconvert_exporter": "python",
   "pygments_lexer": "ipython3",
   "version": "3.11.2"
  }
 },
 "nbformat": 4,
 "nbformat_minor": 5
}
